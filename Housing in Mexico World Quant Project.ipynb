{
 "cells": [
  {
   "cell_type": "raw",
   "id": "530e363d-520b-4b60-9c31-179bdca75794",
   "metadata": {},
   "source": [
    "*Import libraries*"
   ]
  },
  {
   "cell_type": "code",
   "execution_count": 1,
   "id": "01a66a28-1075-45f5-afff-0faf6e45e211",
   "metadata": {},
   "outputs": [],
   "source": [
    "import pandas as pd\n",
    "import matplotlib.pyplot as plt\n",
    "import plotly.express as px"
   ]
  },
  {
   "cell_type": "raw",
   "id": "3af370f0-7766-4f0e-a638-4243b50ae715",
   "metadata": {},
   "source": [
    "*Import the CSV file*"
   ]
  },
  {
   "cell_type": "code",
   "execution_count": 2,
   "id": "ae4267c3-b501-4a5c-bbb8-49474e4d2083",
   "metadata": {},
   "outputs": [
    {
     "ename": "FileNotFoundError",
     "evalue": "[Errno 2] No such file or directory: 'data/mexico-real-estate.csv'",
     "output_type": "error",
     "traceback": [
      "\u001b[0;31m---------------------------------------------------------------------------\u001b[0m",
      "\u001b[0;31mFileNotFoundError\u001b[0m                         Traceback (most recent call last)",
      "Cell \u001b[0;32mIn[2], line 1\u001b[0m\n\u001b[0;32m----> 1\u001b[0m df \u001b[38;5;241m=\u001b[39m pd\u001b[38;5;241m.\u001b[39mread_csv(\u001b[38;5;124m\"\u001b[39m\u001b[38;5;124mdata/mexico-real-estate.csv\u001b[39m\u001b[38;5;124m\"\u001b[39m)\n",
      "File \u001b[0;32m/opt/conda/envs/anaconda-panel-2023.05-py310/lib/python3.11/site-packages/pandas/io/parsers/readers.py:912\u001b[0m, in \u001b[0;36mread_csv\u001b[0;34m(filepath_or_buffer, sep, delimiter, header, names, index_col, usecols, dtype, engine, converters, true_values, false_values, skipinitialspace, skiprows, skipfooter, nrows, na_values, keep_default_na, na_filter, verbose, skip_blank_lines, parse_dates, infer_datetime_format, keep_date_col, date_parser, date_format, dayfirst, cache_dates, iterator, chunksize, compression, thousands, decimal, lineterminator, quotechar, quoting, doublequote, escapechar, comment, encoding, encoding_errors, dialect, on_bad_lines, delim_whitespace, low_memory, memory_map, float_precision, storage_options, dtype_backend)\u001b[0m\n\u001b[1;32m    899\u001b[0m kwds_defaults \u001b[38;5;241m=\u001b[39m _refine_defaults_read(\n\u001b[1;32m    900\u001b[0m     dialect,\n\u001b[1;32m    901\u001b[0m     delimiter,\n\u001b[0;32m   (...)\u001b[0m\n\u001b[1;32m    908\u001b[0m     dtype_backend\u001b[38;5;241m=\u001b[39mdtype_backend,\n\u001b[1;32m    909\u001b[0m )\n\u001b[1;32m    910\u001b[0m kwds\u001b[38;5;241m.\u001b[39mupdate(kwds_defaults)\n\u001b[0;32m--> 912\u001b[0m \u001b[38;5;28;01mreturn\u001b[39;00m _read(filepath_or_buffer, kwds)\n",
      "File \u001b[0;32m/opt/conda/envs/anaconda-panel-2023.05-py310/lib/python3.11/site-packages/pandas/io/parsers/readers.py:577\u001b[0m, in \u001b[0;36m_read\u001b[0;34m(filepath_or_buffer, kwds)\u001b[0m\n\u001b[1;32m    574\u001b[0m _validate_names(kwds\u001b[38;5;241m.\u001b[39mget(\u001b[38;5;124m\"\u001b[39m\u001b[38;5;124mnames\u001b[39m\u001b[38;5;124m\"\u001b[39m, \u001b[38;5;28;01mNone\u001b[39;00m))\n\u001b[1;32m    576\u001b[0m \u001b[38;5;66;03m# Create the parser.\u001b[39;00m\n\u001b[0;32m--> 577\u001b[0m parser \u001b[38;5;241m=\u001b[39m TextFileReader(filepath_or_buffer, \u001b[38;5;241m*\u001b[39m\u001b[38;5;241m*\u001b[39mkwds)\n\u001b[1;32m    579\u001b[0m \u001b[38;5;28;01mif\u001b[39;00m chunksize \u001b[38;5;129;01mor\u001b[39;00m iterator:\n\u001b[1;32m    580\u001b[0m     \u001b[38;5;28;01mreturn\u001b[39;00m parser\n",
      "File \u001b[0;32m/opt/conda/envs/anaconda-panel-2023.05-py310/lib/python3.11/site-packages/pandas/io/parsers/readers.py:1407\u001b[0m, in \u001b[0;36mTextFileReader.__init__\u001b[0;34m(self, f, engine, **kwds)\u001b[0m\n\u001b[1;32m   1404\u001b[0m     \u001b[38;5;28mself\u001b[39m\u001b[38;5;241m.\u001b[39moptions[\u001b[38;5;124m\"\u001b[39m\u001b[38;5;124mhas_index_names\u001b[39m\u001b[38;5;124m\"\u001b[39m] \u001b[38;5;241m=\u001b[39m kwds[\u001b[38;5;124m\"\u001b[39m\u001b[38;5;124mhas_index_names\u001b[39m\u001b[38;5;124m\"\u001b[39m]\n\u001b[1;32m   1406\u001b[0m \u001b[38;5;28mself\u001b[39m\u001b[38;5;241m.\u001b[39mhandles: IOHandles \u001b[38;5;241m|\u001b[39m \u001b[38;5;28;01mNone\u001b[39;00m \u001b[38;5;241m=\u001b[39m \u001b[38;5;28;01mNone\u001b[39;00m\n\u001b[0;32m-> 1407\u001b[0m \u001b[38;5;28mself\u001b[39m\u001b[38;5;241m.\u001b[39m_engine \u001b[38;5;241m=\u001b[39m \u001b[38;5;28mself\u001b[39m\u001b[38;5;241m.\u001b[39m_make_engine(f, \u001b[38;5;28mself\u001b[39m\u001b[38;5;241m.\u001b[39mengine)\n",
      "File \u001b[0;32m/opt/conda/envs/anaconda-panel-2023.05-py310/lib/python3.11/site-packages/pandas/io/parsers/readers.py:1661\u001b[0m, in \u001b[0;36mTextFileReader._make_engine\u001b[0;34m(self, f, engine)\u001b[0m\n\u001b[1;32m   1659\u001b[0m     \u001b[38;5;28;01mif\u001b[39;00m \u001b[38;5;124m\"\u001b[39m\u001b[38;5;124mb\u001b[39m\u001b[38;5;124m\"\u001b[39m \u001b[38;5;129;01mnot\u001b[39;00m \u001b[38;5;129;01min\u001b[39;00m mode:\n\u001b[1;32m   1660\u001b[0m         mode \u001b[38;5;241m+\u001b[39m\u001b[38;5;241m=\u001b[39m \u001b[38;5;124m\"\u001b[39m\u001b[38;5;124mb\u001b[39m\u001b[38;5;124m\"\u001b[39m\n\u001b[0;32m-> 1661\u001b[0m \u001b[38;5;28mself\u001b[39m\u001b[38;5;241m.\u001b[39mhandles \u001b[38;5;241m=\u001b[39m get_handle(\n\u001b[1;32m   1662\u001b[0m     f,\n\u001b[1;32m   1663\u001b[0m     mode,\n\u001b[1;32m   1664\u001b[0m     encoding\u001b[38;5;241m=\u001b[39m\u001b[38;5;28mself\u001b[39m\u001b[38;5;241m.\u001b[39moptions\u001b[38;5;241m.\u001b[39mget(\u001b[38;5;124m\"\u001b[39m\u001b[38;5;124mencoding\u001b[39m\u001b[38;5;124m\"\u001b[39m, \u001b[38;5;28;01mNone\u001b[39;00m),\n\u001b[1;32m   1665\u001b[0m     compression\u001b[38;5;241m=\u001b[39m\u001b[38;5;28mself\u001b[39m\u001b[38;5;241m.\u001b[39moptions\u001b[38;5;241m.\u001b[39mget(\u001b[38;5;124m\"\u001b[39m\u001b[38;5;124mcompression\u001b[39m\u001b[38;5;124m\"\u001b[39m, \u001b[38;5;28;01mNone\u001b[39;00m),\n\u001b[1;32m   1666\u001b[0m     memory_map\u001b[38;5;241m=\u001b[39m\u001b[38;5;28mself\u001b[39m\u001b[38;5;241m.\u001b[39moptions\u001b[38;5;241m.\u001b[39mget(\u001b[38;5;124m\"\u001b[39m\u001b[38;5;124mmemory_map\u001b[39m\u001b[38;5;124m\"\u001b[39m, \u001b[38;5;28;01mFalse\u001b[39;00m),\n\u001b[1;32m   1667\u001b[0m     is_text\u001b[38;5;241m=\u001b[39mis_text,\n\u001b[1;32m   1668\u001b[0m     errors\u001b[38;5;241m=\u001b[39m\u001b[38;5;28mself\u001b[39m\u001b[38;5;241m.\u001b[39moptions\u001b[38;5;241m.\u001b[39mget(\u001b[38;5;124m\"\u001b[39m\u001b[38;5;124mencoding_errors\u001b[39m\u001b[38;5;124m\"\u001b[39m, \u001b[38;5;124m\"\u001b[39m\u001b[38;5;124mstrict\u001b[39m\u001b[38;5;124m\"\u001b[39m),\n\u001b[1;32m   1669\u001b[0m     storage_options\u001b[38;5;241m=\u001b[39m\u001b[38;5;28mself\u001b[39m\u001b[38;5;241m.\u001b[39moptions\u001b[38;5;241m.\u001b[39mget(\u001b[38;5;124m\"\u001b[39m\u001b[38;5;124mstorage_options\u001b[39m\u001b[38;5;124m\"\u001b[39m, \u001b[38;5;28;01mNone\u001b[39;00m),\n\u001b[1;32m   1670\u001b[0m )\n\u001b[1;32m   1671\u001b[0m \u001b[38;5;28;01massert\u001b[39;00m \u001b[38;5;28mself\u001b[39m\u001b[38;5;241m.\u001b[39mhandles \u001b[38;5;129;01mis\u001b[39;00m \u001b[38;5;129;01mnot\u001b[39;00m \u001b[38;5;28;01mNone\u001b[39;00m\n\u001b[1;32m   1672\u001b[0m f \u001b[38;5;241m=\u001b[39m \u001b[38;5;28mself\u001b[39m\u001b[38;5;241m.\u001b[39mhandles\u001b[38;5;241m.\u001b[39mhandle\n",
      "File \u001b[0;32m/opt/conda/envs/anaconda-panel-2023.05-py310/lib/python3.11/site-packages/pandas/io/common.py:859\u001b[0m, in \u001b[0;36mget_handle\u001b[0;34m(path_or_buf, mode, encoding, compression, memory_map, is_text, errors, storage_options)\u001b[0m\n\u001b[1;32m    854\u001b[0m \u001b[38;5;28;01melif\u001b[39;00m \u001b[38;5;28misinstance\u001b[39m(handle, \u001b[38;5;28mstr\u001b[39m):\n\u001b[1;32m    855\u001b[0m     \u001b[38;5;66;03m# Check whether the filename is to be opened in binary mode.\u001b[39;00m\n\u001b[1;32m    856\u001b[0m     \u001b[38;5;66;03m# Binary mode does not support 'encoding' and 'newline'.\u001b[39;00m\n\u001b[1;32m    857\u001b[0m     \u001b[38;5;28;01mif\u001b[39;00m ioargs\u001b[38;5;241m.\u001b[39mencoding \u001b[38;5;129;01mand\u001b[39;00m \u001b[38;5;124m\"\u001b[39m\u001b[38;5;124mb\u001b[39m\u001b[38;5;124m\"\u001b[39m \u001b[38;5;129;01mnot\u001b[39;00m \u001b[38;5;129;01min\u001b[39;00m ioargs\u001b[38;5;241m.\u001b[39mmode:\n\u001b[1;32m    858\u001b[0m         \u001b[38;5;66;03m# Encoding\u001b[39;00m\n\u001b[0;32m--> 859\u001b[0m         handle \u001b[38;5;241m=\u001b[39m \u001b[38;5;28mopen\u001b[39m(\n\u001b[1;32m    860\u001b[0m             handle,\n\u001b[1;32m    861\u001b[0m             ioargs\u001b[38;5;241m.\u001b[39mmode,\n\u001b[1;32m    862\u001b[0m             encoding\u001b[38;5;241m=\u001b[39mioargs\u001b[38;5;241m.\u001b[39mencoding,\n\u001b[1;32m    863\u001b[0m             errors\u001b[38;5;241m=\u001b[39merrors,\n\u001b[1;32m    864\u001b[0m             newline\u001b[38;5;241m=\u001b[39m\u001b[38;5;124m\"\u001b[39m\u001b[38;5;124m\"\u001b[39m,\n\u001b[1;32m    865\u001b[0m         )\n\u001b[1;32m    866\u001b[0m     \u001b[38;5;28;01melse\u001b[39;00m:\n\u001b[1;32m    867\u001b[0m         \u001b[38;5;66;03m# Binary mode\u001b[39;00m\n\u001b[1;32m    868\u001b[0m         handle \u001b[38;5;241m=\u001b[39m \u001b[38;5;28mopen\u001b[39m(handle, ioargs\u001b[38;5;241m.\u001b[39mmode)\n",
      "\u001b[0;31mFileNotFoundError\u001b[0m: [Errno 2] No such file or directory: 'data/mexico-real-estate.csv'"
     ]
    }
   ],
   "source": [
    "df = pd.read_csv(\"data/mexico-real-estate.csv\")"
   ]
  },
  {
   "cell_type": "raw",
   "id": "ba5afde1-4df2-47db-9680-ee85270f828b",
   "metadata": {},
   "source": [
    "*Inspect the DataFrame*"
   ]
  },
  {
   "cell_type": "code",
   "execution_count": 3,
   "id": "a0fa029f-992d-40bc-9910-906c0ceef68a",
   "metadata": {},
   "outputs": [
    {
     "ename": "NameError",
     "evalue": "name 'df' is not defined",
     "output_type": "error",
     "traceback": [
      "\u001b[0;31m---------------------------------------------------------------------------\u001b[0m",
      "\u001b[0;31mNameError\u001b[0m                                 Traceback (most recent call last)",
      "Cell \u001b[0;32mIn[3], line 1\u001b[0m\n\u001b[0;32m----> 1\u001b[0m df\u001b[38;5;241m.\u001b[39minfo()\n\u001b[1;32m      2\u001b[0m df\u001b[38;5;241m.\u001b[39mhead()\n",
      "\u001b[0;31mNameError\u001b[0m: name 'df' is not defined"
     ]
    }
   ],
   "source": [
    "df.info()\n",
    "df.head()"
   ]
  },
  {
   "cell_type": "raw",
   "id": "06dab347-8f55-4838-8816-99e89b2a37b1",
   "metadata": {},
   "source": [
    "*Drop all rows with NaN values*"
   ]
  },
  {
   "cell_type": "code",
   "execution_count": null,
   "id": "a40e24be-7c16-43bf-8392-8a2ba73bda24",
   "metadata": {},
   "outputs": [],
   "source": [
    "df = df.dropna()"
   ]
  },
  {
   "cell_type": "raw",
   "id": "360454e2-61e5-410a-b247-01d66cbe1f85",
   "metadata": {},
   "source": [
    "*Create separate columns \"lat\" and \"lon\" from \"lat-lon\"*"
   ]
  },
  {
   "cell_type": "code",
   "execution_count": null,
   "id": "9c869026-cb12-401a-bc20-3fd34d96929b",
   "metadata": {},
   "outputs": [],
   "source": [
    "df[['lat', 'lon']] = df['lat-lon'].str.split(',', expand=True).astype(float)"
   ]
  },
  {
   "cell_type": "raw",
   "id": "f7ddf0e1-5635-4002-ae29-8f6fd36b67ef",
   "metadata": {},
   "source": [
    "*Extract \"state\" from \"place_with_parent_names\"*"
   ]
  },
  {
   "cell_type": "code",
   "execution_count": null,
   "id": "2634f9bd-6439-4b30-ac12-ddf197a3e5b5",
   "metadata": {},
   "outputs": [],
   "source": [
    "df['state'] = df['place_with_parent_names'].str.split('|México|').str[1].str.strip()"
   ]
  },
  {
   "cell_type": "raw",
   "id": "db2b70fb-288e-447b-84e8-ca00eafbc5c0",
   "metadata": {},
   "source": [
    "*Transform \"price_usd\" to float*"
   ]
  },
  {
   "cell_type": "code",
   "execution_count": null,
   "id": "06a6937a-f09c-4e5e-bb66-b71efcdc70f6",
   "metadata": {},
   "outputs": [],
   "source": [
    "df['price_usd'] = df['price_usd'].str.replace('$','').str.replace(',','').astype(float)"
   ]
  },
  {
   "cell_type": "raw",
   "id": "8d831c96-356a-4216-b7aa-f3516747670b",
   "metadata": {},
   "source": [
    "*Drop \"lat-lon\" and \"place_with_parent_names\" columns*"
   ]
  },
  {
   "cell_type": "code",
   "execution_count": null,
   "id": "d0bfcca4-5e62-423d-bec6-3252492b20e8",
   "metadata": {},
   "outputs": [],
   "source": [
    "df = df.drop(columns=['lat-lon','place_with_parent_names'])"
   ]
  },
  {
   "cell_type": "raw",
   "id": "b51c503b-5894-4c4f-b7e6-1b9f690fbe83",
   "metadata": {},
   "source": [
    "*Create summary statistics for \"area_m2\" and \"price_usd\"*"
   ]
  },
  {
   "cell_type": "code",
   "execution_count": null,
   "id": "a041009d-8af4-4cb5-a2f7-febcbb9386be",
   "metadata": {},
   "outputs": [],
   "source": [
    "summary_stats = df[['area_m2','price_usd']].describe()\n",
    "summary_stats"
   ]
  },
  {
   "cell_type": "raw",
   "id": "383f6125-77a0-4202-b091-8c0de3deae4a",
   "metadata": {},
   "source": [
    "*Create histogram of \"price_usd\"*"
   ]
  },
  {
   "cell_type": "code",
   "execution_count": null,
   "id": "9e78f94b-705e-424e-a404-00a897851aa6",
   "metadata": {},
   "outputs": [],
   "source": [
    "plt.hist(df['price_usd'][:20000])\n",
    "plt.xlabel(\"Price [USD]\")\n",
    "plt.ylabel(\"Frequency\")\n",
    "plt.title(\"Distribution of Home Prices\")\n",
    "plt.show()"
   ]
  },
  {
   "cell_type": "raw",
   "id": "590deed0-4c94-4229-8524-e7a63088a90b",
   "metadata": {},
   "source": [
    "*Create horizontal boxplot of \"area_m2\"*"
   ]
  },
  {
   "cell_type": "code",
   "execution_count": null,
   "id": "ad02fadf-f885-4321-8c14-6daeb2f47060",
   "metadata": {},
   "outputs": [],
   "source": [
    "plt.boxplot(df['area_m2'], vert=False)\n",
    "plt.xlabel(\"Area [sq meters]\")\n",
    "plt.title(\"Distribution of Home Sizes\")\n",
    "plt.show()"
   ]
  },
  {
   "cell_type": "raw",
   "id": "ab00c604-be45-4f1c-9f90-54046c181fb5",
   "metadata": {},
   "source": [
    "*Mean home price by region*"
   ]
  },
  {
   "cell_type": "code",
   "execution_count": null,
   "id": "a94928e4-1e75-4928-bf74-0d6ff7fadda3",
   "metadata": {},
   "outputs": [],
   "source": [
    "mean_price_by_region = df.groupby(\"region\")['price_usd'].mean().sort_values()\n",
    "mean_price_by_region"
   ]
  },
  {
   "cell_type": "raw",
   "id": "fd9899ea-2592-4dee-8427-18dcf8a0ca1c",
   "metadata": {},
   "source": [
    "*Bar chart of mean home price by region*"
   ]
  },
  {
   "cell_type": "code",
   "execution_count": null,
   "id": "41849c2b-d54d-47c2-be67-caad1b2f2ea2",
   "metadata": {},
   "outputs": [],
   "source": [
    "mean_price_by_region.plot(kind='bar')\n",
    "plt.xlabel(\"Region\")\n",
    "plt.ylabel(\"Mean Price [USD]\")\n",
    "plt.title(\"Mean Home Price by Region\")\n",
    "plt.show()"
   ]
  },
  {
   "cell_type": "raw",
   "id": "169b119a-533a-4082-94e6-81a741d4a0f8",
   "metadata": {},
   "source": [
    "*Create DataFrame for southern region*"
   ]
  },
  {
   "cell_type": "code",
   "execution_count": null,
   "id": "6f0b29c3-b169-4faf-b1e4-e9058f8efe47",
   "metadata": {},
   "outputs": [],
   "source": [
    "df_south = df[df['region'] == 'South']"
   ]
  },
  {
   "cell_type": "raw",
   "id": "350ab15d-1f36-41a9-af5d-eccd79fa2472",
   "metadata": {},
   "source": [
    "*Number of homes by state in southern region*"
   ]
  },
  {
   "cell_type": "code",
   "execution_count": null,
   "id": "e3ff8a64-0d4b-4d28-baef-10a55e52de9a",
   "metadata": {},
   "outputs": [],
   "source": [
    "homes_by_state = df_south['state'].value_counts()\n",
    "homes_by_state"
   ]
  },
  {
   "cell_type": "code",
   "execution_count": null,
   "id": "01509716-b060-4d08-bf43-4a0c2475753a",
   "metadata": {},
   "outputs": [],
   "source": [
    "*Scatter plot for the state with most properties*"
   ]
  },
  {
   "cell_type": "code",
   "execution_count": null,
   "id": "deeaa05e-aa59-4bb7-8287-39605125af11",
   "metadata": {},
   "outputs": [],
   "source": [
    "largest_state = homes_by_state.idxmax()\n",
    "df_south_state = df_south[df_south['state'] == largest_state]\n",
    "plt.scatter(df_south_state['area_m2'], df_south_state['price_usd'])\n",
    "plt.xlabel(\"Area [sq meters]\")\n",
    "plt.ylabel(\"Price [USD]\")\n",
    "plt.title(f\"{largest_state}: Price vs. Area\")\n",
    "plt.show()"
   ]
  },
  {
   "cell_type": "code",
   "execution_count": null,
   "id": "976105ed-587f-4248-8103-47e8699e1eb9",
   "metadata": {},
   "outputs": [],
   "source": [
    "*Correlation between area and price for southern states*"
   ]
  },
  {
   "cell_type": "code",
   "execution_count": null,
   "id": "7447cecd-4338-4c3d-b9bd-5d9db3621d8a",
   "metadata": {},
   "outputs": [],
   "source": [
    "south_states_corr = {state: df_south[df_south['state']==state]['area_m2'].corr(\n",
    "    df_south[df_south['state']==state]['price_usd']) for state in df_south['state'].unique()}\n",
    "south_states_corr"
   ]
  }
 ],
 "metadata": {
  "kernelspec": {
   "display_name": "anaconda-panel-2023.05-py310",
   "language": "python",
   "name": "conda-env-anaconda-panel-2023.05-py310-py"
  },
  "language_info": {
   "codemirror_mode": {
    "name": "ipython",
    "version": 3
   },
   "file_extension": ".py",
   "mimetype": "text/x-python",
   "name": "python",
   "nbconvert_exporter": "python",
   "pygments_lexer": "ipython3",
   "version": "3.11.5"
  }
 },
 "nbformat": 4,
 "nbformat_minor": 5
}
